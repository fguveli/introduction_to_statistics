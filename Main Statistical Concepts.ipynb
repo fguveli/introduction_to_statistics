{
 "cells": [
  {
   "cell_type": "code",
   "execution_count": 35,
   "metadata": {},
   "outputs": [
    {
     "name": "stdout",
     "output_type": "stream",
     "text": [
      "Mean age of university is: 20.92\n",
      "Mode age of university is: 21.03\n",
      "Variance of age in university is: 3.93\n",
      "Standard Deviation of age in university is: 1.98\n",
      "\n",
      "Mean GPA of students is: 2.40\n",
      "Mode GPA of university is: 1.84\n",
      "Variance of GPA in university is: 0.62\n",
      "Standard Deviation of GPA in university is: 0.79\n",
      "\n",
      "Mean of club number students join is: 1.9845 \n",
      "Mode of club number students join is: 1.00\n",
      "Variance of club number students join is: 1.98\n",
      "Standard Deviation of club number students join is: 1.41\n"
     ]
    }
   ],
   "source": [
    "import numpy as np\n",
    "import pandas as pd\n",
    "import statistics\n",
    "\n",
    "#Creating first dataframe\n",
    "df_university = pd.DataFrame()\n",
    "\n",
    "#Generating age data database for our university dataframe\n",
    "df_university['age'] = np.random.normal(21, 2, 2000)\n",
    "\n",
    "#Generating GPA data for students in university\n",
    "df_university['GPA'] = np.random.normal(2.4, 0.8, 2000)\n",
    "\n",
    "#Genearating number of student clubs student is joined\n",
    "df_university['Student_clubs'] = np.random.randint(low=0, high= 5, size= 2000)\n",
    "\n",
    "#Central tendency for Age column\n",
    "print('Mean age of university is: {0:.2f}'.format(np.mean(df_university['age'])))\n",
    "print('Mode age of university is: {0:.2f}'.format(statistics.mode(df_university['age'])))\n",
    "print('Variance of age in university is: {0:.2f}'.format(np.var(df_university['age'])))\n",
    "print('Standard Deviation of age in university is: {0:.2f}'.format(np.std(df_university['age'])))\n",
    "print()\n",
    "\n",
    "#Central tendency for GPA column\n",
    "print('Mean GPA of students is: {0:.2f}'.format(np.mean(df_university['GPA'])))\n",
    "print('Mode GPA of university is: {0:.2f}'.format(statistics.mode(df_university['GPA'])))\n",
    "print('Variance of GPA in university is: {0:.2f}'.format(np.var(df_university['GPA'])))\n",
    "print('Standard Deviation of GPA in university is: {0:.2f}'.format(np.std(df_university['GPA'])))\n",
    "print()\n",
    "\n",
    "#Central tendency for student clubs column\n",
    "print('Mean of club number students join is: {} '.format(np.mean(df_university['Student_clubs'])))\n",
    "print('Mode of club number students join is: {0:.2f}'.format(statistics.mode(df_university['Student_clubs'])))\n",
    "print('Variance of club number students join is: {0:.2f}'.format(np.var(df_university['Student_clubs'])))\n",
    "print('Standard Deviation of club number students join is: {0:.2f}'.format(np.std(df_university['Student_clubs'])))"
   ]
  }
 ],
 "metadata": {
  "kernelspec": {
   "display_name": "Python 3",
   "language": "python",
   "name": "python3"
  },
  "language_info": {
   "codemirror_mode": {
    "name": "ipython",
    "version": 3
   },
   "file_extension": ".py",
   "mimetype": "text/x-python",
   "name": "python",
   "nbconvert_exporter": "python",
   "pygments_lexer": "ipython3",
   "version": "3.8.3"
  }
 },
 "nbformat": 4,
 "nbformat_minor": 4
}
