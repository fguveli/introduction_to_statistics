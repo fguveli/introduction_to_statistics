{
 "cells": [
  {
   "cell_type": "markdown",
   "metadata": {},
   "source": [
    "\n",
    "In this question, you test whether the central limit theorem works. You generate 1000 variables with two normal distributions. You can determine the mean and standard deviation of these variables yourself. All you have to do is generate the first variable 50 times and averaged it each time. Generate the second variable 1000 times and averages this variable each time. Then plot the histogram of the averages of the two variables. Which of the variables has a mean distribution closer to the normal distribution? Do you think the Central Limit Theorem seems to have worked?\n"
   ]
  },
  {
   "cell_type": "code",
   "execution_count": 71,
   "metadata": {},
   "outputs": [
    {
     "data": {
      "image/png": "[encoded data removed]",
      "text/plain": [
       "<Figure size 432x288 with 1 Axes>"
      ]
     },
     "metadata": {
      "needs_background": "light"
     },
     "output_type": "display_data"
    },
    {
     "name": "stdout",
     "output_type": "stream",
     "text": [
      "4.998704174989262\n",
      "5.001453051917192\n",
      "As we can see histogram does not show difference of two distribution, however when we look at our datas means, second distribution is more close to 5 which is our mean of population. Central limit theorem works.\n"
     ]
    }
   ],
   "source": [
    "import numpy as np\n",
    "import pandas as pd\n",
    "import matplotlib.pyplot as plt\n",
    "\n",
    "firstDist = []\n",
    "secondDist = []\n",
    "\n",
    "for i in range(50):\n",
    "    tmpdata = np.random.normal(5, 3, 1000)\n",
    "    firstDist.append(tmpdata.mean())\n",
    "    \n",
    "for j in range(1000):\n",
    "    tmpdata = np.random.normal(5, 3, 20)\n",
    "    secondDist.append(tmpdata.mean())\n",
    "    \n",
    "plt.hist(firstDist, alpha= 0.5, label='50 times', color='blue')\n",
    "plt.hist(firstDist, alpha= 0.5, label='1 time', color='red' )\n",
    "plt.legend(loc='best')\n",
    "plt.show()\n",
    "\n",
    "print(sum(firstDist)/len(firstDist))\n",
    "print(sum(secondDist)/len(secondDist))\n",
    "\n",
    "print('As we can see histogram does not show difference of two distribution, however when we look at our datas means, second distribution is more close to 5 which is our mean of population. Central limit theorem works.')"
   ]
  }
 ],
 "metadata": {
  "kernelspec": {
   "display_name": "Python 3",
   "language": "python",
   "name": "python3"
  },
  "language_info": {
   "codemirror_mode": {
    "name": "ipython",
    "version": 3
   },
   "file_extension": ".py",
   "mimetype": "text/x-python",
   "name": "python",
   "nbconvert_exporter": "python",
   "pygments_lexer": "ipython3",
   "version": "3.8.3"
  }
 },
 "nbformat": 4,
 "nbformat_minor": 4
}
